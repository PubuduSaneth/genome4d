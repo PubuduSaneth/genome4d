{
 "cells": [
  {
   "cell_type": "markdown",
   "metadata": {},
   "source": [
    "# Read juicebox dump output and reformat to 7 column format"
   ]
  },
  {
   "cell_type": "markdown",
   "metadata": {},
   "source": [
    "## Juicebox dump output format - Input of the program\n",
    "<pre>\n",
    "chr1:start chr2:start Normalized_interactions\n",
    "10000\t10000\t311.05484\n",
    "10000\t20000\t92.60087\n",
    "20000\t20000\t296.0056\n",
    "10000\t30000\t47.701942\n",
    "</pre>"
   ]
  },
  {
   "cell_type": "markdown",
   "metadata": {},
   "source": [
    "## 7 column format - Output of the program\n",
    "<pre>\n",
    "chr1\tstart1\tend1\tchr2\tstart2\tend2\tNormalized_interactions\n",
    "1\t10000\t20000\t1\t10000\t20000\t311.05484\n",
    "1\t10000\t20000\t1\t20000\t30000\t92.60087\n",
    "1\t20000\t30000\t1\t20000\t30000\t296.0056\n",
    "1\t10000\t20000\t1\t30000\t40000\t47.701942\n",
    "</pre>"
   ]
  },
  {
   "cell_type": "markdown",
   "metadata": {},
   "source": [
    "### runDump.bash: script that runs juicebox dump command\n",
    "\n",
    "#### Jucebox dump parameters: \n",
    "* Resolution: 10K\n",
    "* Normalization method: KR (normalization method used in the rao paper)\n",
    "* Output: observed notmalized values (in a sparce matrix)\n",
    "\n",
    "#### Bash script\n",
    "<pre>\n",
    "#!/bin/bash\n",
    "## $1 ==  chr1\n",
    "## $2 ==  chr2\n",
    "## $3 ==  output_file\n",
    "echo -e \"run juicebox dump\\n\\t resolution: 10000\\n\\t normalization method: KR\\n\\t output: observed notmalized sparce matrix\"\n",
    "touch $3\n",
    "\n",
    "java -jar /Users/pubudu/Downloads/MacTools/juicebox_tools.7.5.jar dump observed KR /Users/pubudu/Documents/RefData/raoPaper/copy_GSE63525_HMEC_combined.hic $1 $2 BP 10000 $3\n",
    "echo -e \"\\#\\#\\#\\#juicebox dump observed KR copy_GSE63525_HMEC_combined.hic $1 $2 BP 10000 $3\\n$(cat $3)\" > $3 \n",
    "</pre>"
   ]
  },
  {
   "cell_type": "code",
   "execution_count": null,
   "metadata": {
    "collapsed": true
   },
   "outputs": [],
   "source": [
    "import pandas as pd\n",
    "import subprocess\n",
    "from itertools import combinations"
   ]
  },
  {
   "cell_type": "code",
   "execution_count": null,
   "metadata": {
    "collapsed": true
   },
   "outputs": [],
   "source": [
    "chr_list=['1','2','3','4','5','6','7','8','9','10','11','12','13','14','15','16','17','18','19','20','21','22','X','Y'] # List of chromosomes\n",
    "f_counter = 0 # Counter for the number of files created\n",
    "set_path = \"/Users/pubudu/Documents/RefData/raoPaper/\" # path of the .hic file and dump files\n",
    "file_list = [] # list of all the dump files created"
   ]
  },
  {
   "cell_type": "code",
   "execution_count": null,
   "metadata": {
    "collapsed": false,
    "scrolled": true
   },
   "outputs": [],
   "source": [
    "# Run juicebox dump to \n",
    "for chroms in chr_list:\n",
    "    print 'Juicebox dump run - chromosome: {}'.format(chroms)\n",
    "    f_name = '{}.{}_{}.dumpOut.txt'.format(f_counter, chroms, chroms)\n",
    "    arg_list = [chroms, chroms, f_name]\n",
    "    file_list.append(f_name)\n",
    "    subprocess.call(['/Users/pubudu/Documents/RefData/raoPaper/runDump.bash', str(arg_list[0]), str(arg_list[1]), ''.join([set_path, str(arg_list[2])]) ])\n",
    "    f_counter += 1"
   ]
  },
  {
   "cell_type": "code",
   "execution_count": null,
   "metadata": {
    "collapsed": false,
    "scrolled": true
   },
   "outputs": [],
   "source": [
    "# itertools.combinations(iterable, r)\n",
    "### Return r length subsequences of elements from the input iterable.\n",
    "### Combinations are emitted in lexicographic sort order. So, if the input iterable is sorted, the combination tuples will be produced in sorted order.\n",
    "### Elements are treated as unique based on their position, not on their value. So if the input elements are unique, there will be no repeat values in each combination.\n",
    "\n",
    "for combo in combinations(chr_list, 2):\n",
    "    print 'Juicebox dump run - chromosomes: {} and {}'.format(combo[0], combo[1])\n",
    "    f_name = '{}.{}_{}.dumpOut.txt'.format(f_counter, combo[0], combo[1])\n",
    "    arg_list = [combo[0], combo[1], f_name]\n",
    "    subprocess.call(['/Users/pubudu/Documents/RefData/raoPaper/runDump.bash', str(arg_list[0]), str(arg_list[1]), ''.join([set_path, str(arg_list[2])]) ])    \n",
    "    file_list.append(f_name)\n",
    "    f_counter += 1"
   ]
  },
  {
   "cell_type": "code",
   "execution_count": null,
   "metadata": {
    "collapsed": false
   },
   "outputs": [],
   "source": [
    "#print file_list\n",
    "print len(file_list)"
   ]
  },
  {
   "cell_type": "code",
   "execution_count": null,
   "metadata": {
    "collapsed": true
   },
   "outputs": [],
   "source": [
    "### Fill start and end postions in juicebox dump file\n",
    "res = 10000 # Resolution used to run juicebox dump command\n",
    "lambdafunc = lambda x: pd.Series([x['start1'],\n",
    "                                  int(x['start1'])+res,\n",
    "                                  x['start2'],\n",
    "                                  int(x['start2'])+res,\n",
    "                                  x['normC']])"
   ]
  },
  {
   "cell_type": "code",
   "execution_count": null,
   "metadata": {
    "collapsed": false
   },
   "outputs": [],
   "source": [
    "#### format juicebox dump file to 7 column hibrowse input format\n",
    "\n",
    "for f in file_list:\n",
    "    print 'Reformatting to 7 columns: {}'.format(f)\n",
    "    int_chrs = f.split('.')[1].split('_')\n",
    "    print int_chrs\n",
    "    dump_out = pd.read_table(''.join([set_path,f]), sep='\\t', skiprows=1, names=['start1', 'start2', 'normC'], na_values='')\n",
    "    dump_out = dump_out.fillna(0) \n",
    "    hibrowsein = pd.DataFrame()\n",
    "    hibrowsein = dump_out.apply(lambdafunc, axis=1)\n",
    "    hibrowsein.columns = ['start1', 'end1', 'start2', 'end2', 'intCount']\n",
    "    hibrowsein['chr1'] = str(int_chrs[0])\n",
    "    hibrowsein['chr2'] = str(int_chrs[1])\n",
    "    hibrowsein = hibrowsein[['chr1', 'start1', 'end1', 'chr2', 'start2', 'end2', 'intCount']]\n",
    "    hibrowsein = hibrowsein.astype({'chr1':str,\n",
    "                                    'start1':int,\n",
    "                                    'end1':int,\n",
    "                                    'chr2':str,\n",
    "                                    'start2':int,\n",
    "                                    'end2':int,\n",
    "                                    'intCount':float})\n",
    "    print 'Writing {}.hibrowse.txt file...'.format(''.join([set_path,f]))\n",
    "    hibrowsein.to_csv('{}.hibrowse.txt'.format(''.join([set_path,f])), \n",
    "                      sep='\\t', \n",
    "                      header=True, \n",
    "                      index=False, \n",
    "                      quoting=None, \n",
    "                      line_terminator='\\n')"
   ]
  },
  {
   "cell_type": "code",
   "execution_count": null,
   "metadata": {
    "collapsed": true
   },
   "outputs": [],
   "source": []
  }
 ],
 "metadata": {
  "kernelspec": {
   "display_name": "Python (saneth)",
   "language": "python",
   "name": "saneth"
  },
  "language_info": {
   "codemirror_mode": {
    "name": "ipython",
    "version": 2
   },
   "file_extension": ".py",
   "mimetype": "text/x-python",
   "name": "python",
   "nbconvert_exporter": "python",
   "pygments_lexer": "ipython2",
   "version": "2.7.12"
  }
 },
 "nbformat": 4,
 "nbformat_minor": 2
}
